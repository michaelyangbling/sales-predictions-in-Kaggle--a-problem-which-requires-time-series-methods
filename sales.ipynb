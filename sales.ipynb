{
 "cells": [
  {
   "cell_type": "code",
   "execution_count": 2,
   "metadata": {},
   "outputs": [],
   "source": [
    "%reset"
   ]
  },
  {
   "cell_type": "code",
   "execution_count": 4,
   "metadata": {},
   "outputs": [],
   "source": [
    "import numpy as np\n",
    "import pandas as pd\n",
    "import lightgbm as lgb\n",
    "import datetime\n",
    "import math\n",
    "import gc"
   ]
  },
  {
   "cell_type": "code",
   "execution_count": 5,
   "metadata": {
    "collapsed": true
   },
   "outputs": [
    {
     "name": "stdout",
     "output_type": "stream",
     "text": [
      "loading\n"
     ]
    },
    {
     "name": "stderr",
     "output_type": "stream",
     "text": [
      "/Library/Frameworks/Python.framework/Versions/3.5/lib/python3.5/site-packages/IPython/core/interactiveshell.py:2728: DtypeWarning: Columns (5) have mixed types. Specify dtype option on import or set low_memory=False.\n  interactivity=interactivity, compiler=compiler, result=result)\n"
     ]
    }
   ],
   "source": [
    "print(\"loading\")\n",
    "data_path='/Users/yzh/Desktop/sales/sale/'\n",
    "test= pd.read_csv( data_path+'test.csv', \n",
    "                   dtype={'item_nbr':'int32', 'store_nbr':'int8'},parse_dates=['date'])\n",
    "train= pd.read_csv( data_path+'train.csv', dtype={'item_nbr':'int32', 'store_nbr':'int8','unit_sales':'float32'},\n",
    "                    parse_dates=['date'], usecols=[1,2,3,4,5])#Skip dates before 2016-08-01 or 2016-01-01"
   ]
  },
  {
   "cell_type": "code",
   "execution_count": 6,
   "metadata": {},
   "outputs": [],
   "source": [
    "train=train[ ( (datetime.date(2015,6,1) <= train['date']) &  (train['date'] < datetime.date(2015,9,1)) )\n",
    "             |( (datetime.date(2016,6,1) <= train['date']) &  (train['date'] < datetime.date(2016,9,1)) )\n",
    "             | ( datetime.date(2017,6,1) <= train['date']  ) ]"
   ]
  },
  {
   "cell_type": "markdown",
   "metadata": {},
   "source": [
    "train[\"on_shelf\"]=True\n",
    "test[\"on_shelf\"]=True"
   ]
  },
  {
   "cell_type": "code",
   "execution_count": 7,
   "metadata": {
    "collapsed": true
   },
   "outputs": [
    {
     "name": "stderr",
     "output_type": "stream",
     "text": [
      "/Library/Frameworks/Python.framework/Versions/3.5/lib/python3.5/site-packages/ipykernel_launcher.py:3: SettingWithCopyWarning: \nA value is trying to be set on a copy of a slice from a DataFrame\n\nSee the caveats in the documentation: http://pandas.pydata.org/pandas-docs/stable/indexing.html#indexing-view-versus-copy\n  This is separate from the ipykernel package so we can avoid doing imports until\n/Library/Frameworks/Python.framework/Versions/3.5/lib/python3.5/site-packages/ipykernel_launcher.py:4: SettingWithCopyWarning: \nA value is trying to be set on a copy of a slice from a DataFrame.\nTry using .loc[row_indexer,col_indexer] = value instead\n\nSee the caveats in the documentation: http://pandas.pydata.org/pandas-docs/stable/indexing.html#indexing-view-versus-copy\n  after removing the cwd from sys.path.\n"
     ]
    }
   ],
   "source": [
    "train.onpromotion.fillna(-1,inplace=True)  # -1 for na\n",
    "store_item=train[[\"store_nbr\",\"item_nbr\"]] \n",
    "store_item.drop_duplicates(inplace=True)\n",
    "store_item[\"exist\"]=1 # to store all existing store-item pair\n",
    "\n",
    "\n",
    "u_dates = train.date.unique()\n",
    "u_stores = train.store_nbr.unique()\n",
    "u_items = train.item_nbr.unique()\n",
    "train.set_index(['date', 'store_nbr', 'item_nbr'], inplace=True)\n",
    "train = train.reindex(\n",
    "    pd.MultiIndex.from_product(\n",
    "        (u_dates, u_stores, u_items),\n",
    "        names=['date','store_nbr','item_nbr']\n",
    "    )\n",
    ").reset_index()\n",
    "train.unit_sales.fillna(0,inplace=True)   # 0 for missing sales data\n",
    "train.onpromotion.fillna(-2,inplace=True)  # -2 for missing promotion data\n",
    "#train.on_shelf.fillna(False,inplace=True)\n",
    "\n",
    "train.loc[(train.unit_sales<0),'unit_sales'] = 0 # eliminate negatives\n",
    "train['unit_sales'] =  train['unit_sales'].apply(pd.np.log1p) #logarithm conversion\n",
    "del u_dates,u_stores,u_items\n",
    "\n",
    "train= train.merge(store_item, on=[\"store_nbr\",\"item_nbr\"],how=\"left\")\n",
    "train=train[train.exist==1]\n",
    "train.drop([\"exist\"],axis=1, inplace=True) # delete non_existing store_item pairs"
   ]
  },
  {
   "cell_type": "code",
   "execution_count": 16,
   "metadata": {
    "collapsed": false
   },
   "outputs": [],
   "source": [
    "store_item=train[[\"store_nbr\",\"item_nbr\"]]\n",
    "store_item.drop_duplicates(inplace=True)\n",
    "store_item=store_item.groupby([\"store_nbr\"],as_index=False).agg({\"item_nbr\":{\"store_count\":\"count\"}})\n",
    "store_item.columns=store_item.columns.droplevel(level=0)\n",
    "store_item.columns.values[0]=\"store_nbr\"\n",
    "train=train.merge(store_item,on=['store_nbr'],how=\"left\")\n",
    "test=test.merge(store_item,on=['store_nbr'],how=\"left\")\n",
    "\n",
    "store_item=train[[\"store_nbr\",\"item_nbr\"]]\n",
    "store_item.drop_duplicates(inplace=True)\n",
    "store_item=store_item.groupby([\"item_nbr\"],as_index=False).agg({\"store_nbr\":{\"item_count\":\"count\"}})\n",
    "store_item.columns=store_item.columns.droplevel(level=0)\n",
    "store_item.columns.values[0]=\"item_nbr\"\n",
    "train=train.merge(store_item,on=['item_nbr'],how=\"left\")\n",
    "test=test.merge(store_item,on=['item_nbr'],how=\"left\")"
   ]
  },
  {
   "cell_type": "code",
   "execution_count": 36,
   "metadata": {},
   "outputs": [
    {
     "data": {
      "text/plain": [
       "584"
      ]
     },
     "execution_count": 36,
     "metadata": {},
     "output_type": "execute_result"
    }
   ],
   "source": [
    "gc.collect()"
   ]
  },
  {
   "cell_type": "markdown",
   "metadata": {
    "collapsed": true
   },
   "source": [
    "average_all=train.groupby([\"store_nbr\",\"item_nbr\"],as_index=False).agg({\"unit_sales\":{\"average_all\":\"mean\"}})\n",
    "average_all.columns=average_all.columns.droplevel(level=0)\n",
    "average_all.columns.values[0]=\"store_nbr\"\n",
    "average_all.columns.values[1]=\"item_nbr\"\n",
    "train=train.merge(average_all, on=[\"store_nbr\",\"item_nbr\"], how=\"left\")\n",
    "test=test.merge(average_all, on=[\"store_nbr\",\"item_nbr\"], how=\"left\")"
   ]
  },
  {
   "cell_type": "code",
   "execution_count": null,
   "metadata": {
    "collapsed": true
   },
   "outputs": [],
   "source": [
    "average_1=train[(datetime.date(2015,6,1) <= train['date']) &  (train['date'] < datetime.date(2015,9,1))].groupby([\"store_nbr\",\"item_nbr\"]\n",
    "                            ,as_index=False).agg({\"unit_sales\":{\"average_1\":\"mean\"}})\n",
    "average_1.columns=average_1.columns.droplevel(level=0)\n",
    "average_1.columns.values[0]=\"store_nbr\"\n",
    "average_1.columns.values[1]=\"item_nbr\"\n",
    "train=train.merge(average_1, on=[\"store_nbr\",\"item_nbr\"], how=\"left\")\n",
    "test=test.merge(average_1, on=[\"store_nbr\",\"item_nbr\"], how=\"left\")\n",
    "\n",
    "average_2=train[(datetime.date(2016,6,1) <= train['date']) &  (train['date'] < datetime.date(2016,9,1))].groupby([\"store_nbr\",\"item_nbr\"]\n",
    "                        ,as_index=False).agg({\"unit_sales\":{\"average_2\":\"mean\"}})\n",
    "average_2.columns=average_2.columns.droplevel(level=0)\n",
    "average_2.columns.values[0]=\"store_nbr\"\n",
    "average_2.columns.values[1]=\"item_nbr\"\n",
    "train=train.merge(average_2, on=[\"store_nbr\",\"item_nbr\"], how=\"left\")\n",
    "test=test.merge(average_2, on=[\"store_nbr\",\"item_nbr\"], how=\"left\")\n",
    "\n",
    "#del average_all,average_1,average_2,store_item\n",
    "average_4=train[datetime.date(2017,6,1) <= train['date']].groupby([\"store_nbr\",\"item_nbr\"]\n",
    "                        ,as_index=False).agg({\"unit_sales\":{\"average_4\":\"mean\"}})\n",
    "average_4.columns=average_4.columns.droplevel(level=0)\n",
    "average_4.columns.values[0]=\"store_nbr\"\n",
    "average_4.columns.values[1]=\"item_nbr\"\n",
    "train=train.merge(average_4, on=[\"store_nbr\",\"item_nbr\"], how=\"left\")\n",
    "test=test.merge(average_4, on=[\"store_nbr\",\"item_nbr\"], how=\"left\")"
   ]
  },
  {
   "cell_type": "markdown",
   "metadata": {
    "collapsed": true
   },
   "source": [
    "average_hasSale=train[train[\"unit_sales\"]>0].groupby([\"store_nbr\",\"item_nbr\"],as_index=False).agg({\"unit_sales\":{\"average_hasSale\":\"mean\"}})\n",
    "average_hasSale.columns=average_hasSale.columns.droplevel(level=0)\n",
    "average_hasSale.columns.values[0]=\"store_nbr\"\n",
    "average_hasSale.columns.values[1]=\"item_nbr\"\n",
    "train=train.merge(average_hasSale, on=[\"store_nbr\",\"item_nbr\"], how=\"left\")\n",
    "test=test.merge(average_hasSale, on=[\"store_nbr\",\"item_nbr\"], how=\"left\")"
   ]
  },
  {
   "cell_type": "markdown",
   "metadata": {
    "collapsed": true
   },
   "source": [
    "print(train[[\"average_1\",\"average_2\",\"average_4\",\"unit_sales\"]].isnull().sum())"
   ]
  },
  {
   "cell_type": "markdown",
   "metadata": {},
   "source": [
    "summary_weekday=train.groupby([\"store_nbr\",\"item_nbr\"],as_index=False).agg({\"unit_sales\":{\"average_all\":\n",
    "               \"mean\"}})\n",
    "average_all.columns=average_all.columns.droplevel(level=0)\n",
    "average_all.columns.values[0]=\"store_nbr\"\n",
    "average_all.columns.values[1]=\"item_nbr\"\n",
    "train=train.merge(average_all, on=[\"store_nbr\",\"item_nbr\"], how=\"left\")\n",
    "test=test.merge(average_all, on=[\"store_nbr\",\"item_nbr\"], how=\"left\")"
   ]
  },
  {
   "cell_type": "code",
   "execution_count": 338,
   "metadata": {},
   "outputs": [
    {
     "data": {
      "text/plain": [
       "245"
      ]
     },
     "execution_count": 337,
     "metadata": {},
     "output_type": "execute_result"
    }
   ],
   "source": [
    "gc.collect()"
   ]
  },
  {
   "cell_type": "code",
   "execution_count": null,
   "metadata": {},
   "outputs": [],
   "source": [
    "items=pd.read_csv(data_path+'items.csv',dtype={'item_nbr':'int32','family':'category','class':'category','perishable':'category'})\n",
    "test=test.merge(items,how=\"left\",on=\"item_nbr\")\n",
    "train=train.merge(items,how='left',on=\"item_nbr\")\n",
    "\n",
    "stores=pd.read_csv(data_path+'stores.csv',dtype={'store_nbr':'int8','city':'category','state':'category','type':'category','cluster':'category'})\n",
    "test=test.merge(stores,how=\"left\",on=\"store_nbr\")\n",
    "train=train.merge(stores,how=\"left\",on=\"store_nbr\")\n",
    "\n",
    "oil=pd.read_csv(data_path+'oil.csv',dtype={'dcoilwtico':\"float32\"},parse_dates=['date'])\n",
    "test=test.merge(oil,how=\"left\",on=\"date\")\n",
    "train=train.merge(oil,how=\"left\",on=\"date\")\n",
    "\n",
    "test['year'] = test['date'].dt.year.astype(np.int16)\n",
    "test['month'] = test['date'].dt.month.astype(np.int8)\n",
    "test['day'] = test['date'].dt.day.astype(np.int8)\n",
    "train['year'] = train['date'].dt.year.astype(np.int16)\n",
    "train['month'] = train['date'].dt.month.astype(np.int8)\n",
    "train['day'] = train['date'].dt.day.astype(np.int8)\n",
    "\n",
    "#ini_date=train.at[0,'date']\n",
    "#test['time_diff']=( (test['date']-ini_date).dt.total_seconds() )/(3600*24)\n",
    "#train['time_diff']=((train['date']-ini_date).dt.total_seconds() )/(3600*24)\n",
    "\n",
    "test['weekday']=test['date'].dt.weekday.astype(np.int8)\n",
    "train['weekday']=train['date'].dt.weekday.astype(np.int8)\n",
    "\n",
    "holidays=pd.read_csv(data_path+'holidays_events.csv',dtype={'type':'category','locale':'category','locale_name':'category','description':'category','transferred':'category'},\n",
    "parse_dates=['date'])\n",
    "holidays.columns=['date','holi_type','locale','locale_name','description','transferred']\n",
    "train=train.merge(holidays,how=\"left\",on=\"date\")\n",
    "test=test.merge(holidays,how=\"left\",on=\"date\")\n",
    "\n",
    "del items, stores, oil, holidays"
   ]
  },
  {
   "cell_type": "code",
   "execution_count": null,
   "metadata": {},
   "outputs": [],
   "source": [
    "summary_summer=train.groupby([\"year\",\"store_nbr\",\"item_nbr\"],as_index=False).agg({\"unit_sales\":{\"summary_summer\":\"mean\"}})\n",
    "summary_summer.columns=summary_summer.columns.droplevel(level=0)\n",
    "summary_summer.columns.values[0]=\"year\"\n",
    "summary_summer.columns.values[1]=\"store_nbr\"\n",
    "summary_summer.columns.values[2]=\"item_nbr\"\n",
    "train=train.merge(summary_summer, on=[\"store_nbr\",\"item_nbr\",\"year\"], how=\"left\")\n",
    "test=test.merge(summary_summer, on=[\"store_nbr\",\"item_nbr\",\"year\"], how=\"left\")\n",
    "\n",
    "summary_HasSaleSummer=train[train[\"unit_sales\"]>0].groupby([\"year\",\"store_nbr\",\"item_nbr\"]\n",
    "            ,as_index=False).agg({\"unit_sales\":{\"summary_HasSaleSummer\":\"mean\"}})\n",
    "summary_HasSaleSummer.columns=summary_HasSaleSummer.columns.droplevel(level=0)\n",
    "summary_HasSaleSummer.columns.values[0]=\"year\"\n",
    "summary_HasSaleSummer.columns.values[1]=\"store_nbr\"\n",
    "summary_HasSaleSummer.columns.values[2]=\"item_nbr\"\n",
    "train=train.merge(summary_HasSaleSummer, on=[\"store_nbr\",\"item_nbr\",\"year\"], how=\"left\")\n",
    "test=test.merge(summary_HasSaleSummer, on=[\"store_nbr\",\"item_nbr\",\"year\"], how=\"left\")\n",
    "\n",
    "summary_item_mean=train.groupby([\"year\",\"item_nbr\"]\n",
    "            ,as_index=False).agg({\"unit_sales\":{\"summary_item_mean\":\"mean\"}})\n",
    "summary_item_mean.columns=summary_item_mean.columns.droplevel(level=0)\n",
    "summary_item_mean.columns.values[0]=\"year\"\n",
    "summary_item_mean.columns.values[1]=\"item_nbr\"\n",
    "train=train.merge(summary_item_mean, on=[\"item_nbr\",\"year\"], how=\"left\")\n",
    "test=test.merge(summary_item_mean, on=[\"item_nbr\",\"year\"], how=\"left\")\n",
    "del summary_item_mean\n",
    "print(\"done\")"
   ]
  },
  {
   "cell_type": "code",
   "execution_count": 8,
   "metadata": {},
   "outputs": [],
   "source": [
    "train[\"unit_sales\"]=train[\"unit_sales\"].astype(np.float16)"
   ]
  },
  {
   "cell_type": "code",
   "execution_count": 9,
   "metadata": {},
   "outputs": [
    {
     "name": "stdout",
     "output_type": "stream",
     "text": [
      "to_dict\n"
     ]
    },
    {
     "name": "stdout",
     "output_type": "stream",
     "text": [
      "done\n"
     ]
    }
   ],
   "source": [
    "ini_date=train.at[0,'date']\n",
    "test['time_diff']=( (test['date']-ini_date).dt.total_seconds() )/(3600*24)\n",
    "train['time_diff']=((train['date']-ini_date).dt.total_seconds() )/(3600*24)\n",
    "test['time_diff']=test[\"time_diff\"].astype(np.int16)\n",
    "train['time_diff']=train[\"time_diff\"].astype(np.int16)\n",
    "\n",
    "train['item_nbr']=train['item_nbr'].astype(np.int32)\n",
    "train['store_nbr']=train['store_nbr'].astype(np.int8)\n",
    "test['item_nbr']=test['item_nbr'].astype(np.int32)\n",
    "test['store_nbr']=test['store_nbr'].astype(np.int8)\n",
    "\n",
    "train_ar=train[['store_nbr','item_nbr','time_diff','unit_sales']]\n",
    "train_ar.set_index(['store_nbr', 'item_nbr','time_diff'], inplace=True)\n",
    "gc.collect()\n",
    "print(\"to_dict\")\n",
    "train_dict=train_ar.to_dict(orient='index')\n",
    "print(\"done\")\n",
    "del train_ar"
   ]
  },
  {
   "cell_type": "code",
   "execution_count": 11,
   "metadata": {},
   "outputs": [
    {
     "data": {
      "text/plain": [
       "date           datetime64[ns]\nstore_nbr                int8\nitem_nbr                int32\nunit_sales            float16\nonpromotion            object\ntime_diff               int16\ndtype: object"
      ]
     },
     "execution_count": 11,
     "metadata": {},
     "output_type": "execute_result"
    }
   ],
   "source": [
    "train.dtypes"
   ]
  },
  {
   "cell_type": "code",
   "execution_count": 12,
   "metadata": {},
   "outputs": [],
   "source": [
    "%load_ext Cython"
   ]
  },
  {
   "cell_type": "code",
   "execution_count": 13,
   "metadata": {},
   "outputs": [],
   "source": [
    "%%cython\n",
    "cimport numpy as np\n",
    "import numpy as np\n",
    "def  get_past_c(  store,   item,   time, train_dict):\n",
    "     try:\n",
    "       return (train_dict[(store, item, time)])['unit_sales']\n",
    "     except KeyError:\n",
    "       return -1\n",
    "cpdef np.ndarray[double] apply_integrate(np.ndarray col_a, np.ndarray col_b, np.ndarray col_N, train_dict):\n",
    "#     assert (col_a.dtype == np.int and col_b.dtype == np.int and col_N.dtype == np.int)\n",
    "     cdef Py_ssize_t i, n = len(col_N)\n",
    "#     assert (len(col_a) == len(col_b) == n)\n",
    "     cdef np.ndarray[double] res = np.empty(n)\n",
    "     for i in range(len(col_a)):\n",
    "         res[i] = get_past_c(col_a[i], col_b[i], col_N[i], train_dict)\n",
    "     return res"
   ]
  },
  {
   "cell_type": "code",
   "execution_count": 15,
   "metadata": {},
   "outputs": [
    {
     "name": "stdout",
     "output_type": "stream",
     "text": [
      "one recored\n"
     ]
    },
    {
     "name": "stdout",
     "output_type": "stream",
     "text": [
      "one recored\n"
     ]
    },
    {
     "name": "stdout",
     "output_type": "stream",
     "text": [
      "one recored\n"
     ]
    },
    {
     "name": "stdout",
     "output_type": "stream",
     "text": [
      "one recored\n"
     ]
    },
    {
     "name": "stdout",
     "output_type": "stream",
     "text": [
      "one recored\n"
     ]
    },
    {
     "name": "stdout",
     "output_type": "stream",
     "text": [
      "one recored\n"
     ]
    },
    {
     "name": "stdout",
     "output_type": "stream",
     "text": [
      "one recored\n"
     ]
    }
   ],
   "source": [
    "for day in [7,14,21,28,35,42,49]: #test, train's keys had better be int type\n",
    "    past=apply_integrate(test['store_nbr'].values, test['item_nbr'].values, test['time_diff'].values-day,train_dict)\n",
    "    past=np.where(past!=-1,past,np.nan)\n",
    "    test[ (\"past_\"+str(day) )] = past\n",
    "    test[ (\"past_\"+str(day) )]= test[ (\"past_\"+str(day) )].astype(np.float16)\n",
    "    \n",
    "    past=apply_integrate(train['store_nbr'].values, train['item_nbr'].values, train['time_diff'].values-day,train_dict)\n",
    "    past=np.where(past!=-1,past,np.nan)\n",
    "    train[ (\"past_\"+str(day) )] = past\n",
    "    train[ (\"past_\"+str(day) )]= train[ (\"past_\"+str(day) )].astype(np.float16)\n",
    "    print(\"one recored\")"
   ]
  },
  {
   "cell_type": "code",
   "execution_count": 5,
   "metadata": {},
   "outputs": [
    {
     "ename": "NameError",
     "evalue": "name 'train' is not defined",
     "traceback": [
      "\u001b[0;31m---------------------------------------------------------------------------\u001b[0m",
      "\u001b[0;31mNameError\u001b[0m                                 Traceback (most recent call last)",
      "\u001b[0;32m<ipython-input-5-aa9aa9f4a77e>\u001b[0m in \u001b[0;36m<module>\u001b[0;34m()\u001b[0m\n\u001b[0;32m----> 1\u001b[0;31m \u001b[0mtrain\u001b[0m\u001b[0;34m.\u001b[0m\u001b[0mdtypes\u001b[0m\u001b[0;34m\u001b[0m\u001b[0m\n\u001b[0m",
      "\u001b[0;31mNameError\u001b[0m: name 'train' is not defined"
     ],
     "output_type": "error"
    }
   ],
   "source": [
    "train.dtypes"
   ]
  },
  {
   "cell_type": "code",
   "execution_count": 15,
   "metadata": {},
   "outputs": [],
   "source": [
    "test[\"mean_7_y\"]=test [[\"past_14\",\"past_21\",\"past_28\",\"past_35\"]].mean(axis=1)\n",
    "train[\"mean_7_y\"]=train[[\"past_14\",\"past_21\",\"past_28\",\"past_35\"]].mean(axis=1)\n",
    "test[\"mean_7_z\"]=test [[\"past_14\",\"past_21\",\"past_28\",\"past_35\",\"past_42\",\"past_49\"]].mean(axis=1)\n",
    "train[\"mean_7_z\"]=train[[\"past_14\",\"past_21\",\"past_28\",\"past_35\",\"past_42\",\"past_49\"]].mean(axis=1)"
   ]
  },
  {
   "cell_type": "markdown",
   "metadata": {
    "collapsed": true
   },
   "source": [
    "summary_weekday_all=train.groupby([\"weekday\",\"store_nbr\",\"item_nbr\"],as_index=False).agg({\"unit_sales\":{\"summary_weekday_all\":\"mean\"}})\n",
    "summary_weekday_all.columns=summary_weekday_all.columns.droplevel(level=0)\n",
    "summary_weekday_all.columns.values[0]=\"weekday\"\n",
    "summary_weekday_all.columns.values[1]=\"store_nbr\"\n",
    "summary_weekday_all.columns.values[2]=\"item_nbr\"\n",
    "train=train.merge(summary_weekday_all, on=[\"store_nbr\",\"item_nbr\",\"weekday\"], how=\"left\")\n",
    "test=test.merge(summary_weekday_all, on=[\"store_nbr\",\"item_nbr\",\"weekday\"], how=\"left\")"
   ]
  },
  {
   "cell_type": "markdown",
   "metadata": {},
   "source": [
    "train[\"weekday_ratio\"]=train[\"summary_weekday_all\"]/train[\"average_all\"]\n",
    "test[\"weekday_ratio\"]=test[\"summary_weekday_all\"]/test[\"average_all\"]"
   ]
  },
  {
   "cell_type": "markdown",
   "metadata": {},
   "source": [
    "for i in range(0,100) #test.shape[0]\n",
    "    train[(train.time_diff>=test.at[i,'time_diff']-29) and (train.time_diff<=test.at[i,'time_diff']-16) and (train.store_nbr==test.at[i,'store_nbr'])\n",
    "               and (train.item_nbr==test.at[i,'item_nbr'])]"
   ]
  },
  {
   "cell_type": "markdown",
   "metadata": {},
   "source": [
    "train.set_index(['date', 'store_nbr', 'item_nbr'], inplace=True)\n",
    "train.reset_index(inplace=True)"
   ]
  },
  {
   "cell_type": "markdown",
   "metadata": {},
   "source": [
    "train.set_index(['time_diff', 'store_nbr', 'item_nbr'],inplace=True)"
   ]
  },
  {
   "cell_type": "markdown",
   "metadata": {},
   "source": [
    "train.at[ slice(test.at[i,'time_diff']-50, test.at[i,'store_nbr'], test.at[i,'item_nbr']),'unit_sales']# store_nbr[test.at[i,'store_nbr']], item_nbr[ test.at[i,'item_nbr'] ] ]"
   ]
  },
  {
   "cell_type": "markdown",
   "metadata": {},
   "source": [
    "train[(train.time_diff>=test.at[i,'time_diff']-29) & (train.time_diff<=test.at[i,'time_diff']-16) & (train.store_nbr==test.at[i,'store_nbr'])\n",
    "           & (train.item_nbr==test.at[i,'item_nbr'])]['unit_sales'].mean()"
   ]
  },
  {
   "cell_type": "code",
   "execution_count": null,
   "metadata": {},
   "outputs": [],
   "source": [
    "train['item_nbr']=train['item_nbr'].astype(np.int32)\n",
    "train['store_nbr']=train['store_nbr'].astype(np.int8)\n",
    "test['item_nbr']=test['item_nbr'].astype(np.int32)\n",
    "test['store_nbr']=test['store_nbr'].astype(np.int8)\n",
    "\n",
    "for col in ['store_nbr','item_nbr','onpromotion','weekday','perishable']:\n",
    "    test[col] = test[col].astype('category')\n",
    "for col in ['store_nbr','item_nbr','onpromotion','weekday','perishable']:\n",
    "    train[col] = train[col].astype('category')"
   ]
  },
  {
   "cell_type": "code",
   "execution_count": null,
   "metadata": {},
   "outputs": [],
   "source": [
    "for col in train.columns:\n",
    "    if train[col].dtype == np.float32 or train[col].dtype == np.float64:\n",
    "        train[col] = train[col].astype(np.float16)\n",
    "for col in test.columns:\n",
    "    if test[col].dtype == np.float32 or test[col].dtype == np.float64:\n",
    "        test[col] = test[col].astype(np.float16)"
   ]
  },
  {
   "cell_type": "markdown",
   "metadata": {},
   "source": [
    "train[\"time_diff\"]=train[\"time_diff\"].astype(np.int16)\n",
    "test[\"time_diff\"]=test[\"time_diff\"].astype(np.int16)\n",
    "train[\"average_1\"]=train[\"average_1\"].astype(np.float16)\n",
    "test[\"average_1\"]=test[\"average_1\"].astype(np.float16)"
   ]
  },
  {
   "cell_type": "markdown",
   "metadata": {},
   "source": [
    "train=train[train.unit_sales!=0]"
   ]
  },
  {
   "cell_type": "code",
   "execution_count": 318,
   "metadata": {},
   "outputs": [
    {
     "data": {
      "text/plain": [
       "296"
      ]
     },
     "execution_count": 318,
     "metadata": {},
     "output_type": "execute_result"
    }
   ],
   "source": [
    "gc.collect()"
   ]
  },
  {
   "cell_type": "code",
   "execution_count": null,
   "metadata": {},
   "outputs": [],
   "source": [
    "#train2=train[train.onpromotion!=-2]\n",
    "def perish(x):\n",
    "    if x==\"1\":\n",
    "        return 1.25\n",
    "    else:\n",
    "        return 1\n",
    "weight_train=train[\"perishable\"].apply(perish).astype(np.float16)\n",
    "\n",
    "def promo(x):\n",
    "    if x==True:\n",
    "        return 1.5\n",
    "    else:\n",
    "        return 1\n",
    "sellmore=test[\"onpromotion\"].apply(promo).astype(np.float16)"
   ]
  },
  {
   "cell_type": "markdown",
   "metadata": {},
   "source": [
    "def concertNa(x):\n",
    "    if x==-1:\n",
    "      return np.nan\n",
    "    else:\n",
    "      return x\n",
    "train2[\"onpromotion\"]=train2[\"onpromotion\"].apply(concertNa).astype(\"category\")"
   ]
  },
  {
   "cell_type": "code",
   "execution_count": null,
   "metadata": {},
   "outputs": [],
   "source": [
    "#x_test=test.drop(['id','date',\"onpromotion\"],axis=1)\n",
    "ids = test['id'].values\n",
    "#train['unit_sales'].values\n",
    "train_final = lgb.Dataset( train.drop(['unit_sales','date',\"onpromotion\"],axis=1), \n",
    "                        train['unit_sales'].values, weight=weight_train) #np.log1p( np.where(sale>0, sale, 0)"
   ]
  },
  {
   "cell_type": "code",
   "execution_count": 200,
   "metadata": {},
   "outputs": [],
   "source": [
    "del oil, items, stores, store_item"
   ]
  },
  {
   "cell_type": "code",
   "execution_count": 355,
   "metadata": {
    "collapsed": true
   },
   "outputs": [
    {
     "name": "stdout",
     "output_type": "stream",
     "text": [
      "starting\n"
     ]
    },
    {
     "name": "stderr",
     "output_type": "stream",
     "text": [
      "/Library/Frameworks/Python.framework/Versions/3.5/lib/python3.5/site-packages/lightgbm/engine.py:99: UserWarning: Found `num_rounds` in params. Will use it instead of argument\n  warnings.warn(\"Found `{}` in params. Will use it instead of argument\".format(alias))\n"
     ]
    },
    {
     "name": "stdout",
     "output_type": "stream",
     "text": [
      "[20]\ttraining's rmse: 0.554471\n"
     ]
    },
    {
     "name": "stdout",
     "output_type": "stream",
     "text": [
      "[40]\ttraining's rmse: 0.545304\n"
     ]
    },
    {
     "name": "stdout",
     "output_type": "stream",
     "text": [
      "[60]\ttraining's rmse: 0.540081\n"
     ]
    }
   ],
   "source": [
    "print(\"starting\")\n",
    "params = {\n",
    "    'objective': 'regression_l2',\n",
    "    'metric': 'l2_root',\n",
    "    'learning_rate': 0.3,\n",
    "    'num_leaves': 75,\n",
    "    'num_rounds': 63,\n",
    "}\n",
    "model_f2 = lgb.train(params,\n",
    "                     train_set=train_final,valid_sets=train_final, verbose_eval=20)"
   ]
  },
  {
   "cell_type": "code",
   "execution_count": 3,
   "metadata": {},
   "outputs": [
    {
     "name": "stdout",
     "output_type": "stream",
     "text": [
      "do\n"
     ]
    }
   ],
   "source": [
    "print(\"do\")"
   ]
  },
  {
   "cell_type": "code",
   "execution_count": 356,
   "metadata": {
    "collapsed": true
   },
   "outputs": [
    {
     "data": {
      "text/plain": [
       "25"
      ]
     },
     "execution_count": 356,
     "metadata": {},
     "output_type": "execute_result"
    }
   ],
   "source": [
    "gc.collect()"
   ]
  },
  {
   "cell_type": "code",
   "execution_count": 358,
   "metadata": {
    "collapsed": true
   },
   "outputs": [],
   "source": [
    "p_test_2 = np.expm1(model_f2.predict( test.drop(['id','date',\"onpromotion\"],axis=1) ) )"
   ]
  },
  {
   "cell_type": "code",
   "execution_count": 358,
   "metadata": {},
   "outputs": [],
   "source": [
    "p_test_posi=(sellmore* (np.where(p_test_2>0, p_test_2, 0)) ).values"
   ]
  },
  {
   "cell_type": "markdown",
   "metadata": {},
   "source": [
    "p_test_posi = ( p_test_posi/sellmore ).values"
   ]
  },
  {
   "cell_type": "code",
   "execution_count": 312,
   "metadata": {},
   "outputs": [],
   "source": [
    "p_test_posi = np.where(p_test_2>0, p_test_2, 0)"
   ]
  },
  {
   "cell_type": "code",
   "execution_count": 360,
   "metadata": {
    "collapsed": true
   },
   "outputs": [
    {
     "name": "stdout",
     "output_type": "stream",
     "text": [
      "Done!\n"
     ]
    }
   ],
   "source": [
    "subm = pd.DataFrame()\n",
    "subm['id'] = ids\n",
    "subm['unit_sales'] = p_test_posi\n",
    "subm.to_csv('/Users/yzh/Desktop/sales/csv/lgbm_summerData_storeitem_final_WeightEasyPromo.csv.gz', compression = 'gzip', \n",
    "            index=False, float_format = '%.5f')\n",
    "\n",
    "print('Done!')"
   ]
  },
  {
   "cell_type": "code",
   "execution_count": 177,
   "metadata": {},
   "outputs": [
    {
     "name": "stdout",
     "output_type": "stream",
     "text": [
      "ddone\n"
     ]
    }
   ],
   "source": [
    "print(\"ddone\")"
   ]
  },
  {
   "cell_type": "code",
   "execution_count": 262,
   "metadata": {
    "collapsed": true
   },
   "outputs": [
    {
     "data": {
      "text/html": [
       "<div>\n",
       "<style scoped>\n",
       "    .dataframe tbody tr th:only-of-type {\n",
       "        vertical-align: middle;\n",
       "    }\n",
       "\n",
       "    .dataframe tbody tr th {\n",
       "        vertical-align: top;\n",
       "    }\n",
       "\n",
       "    .dataframe thead th {\n",
       "        text-align: right;\n",
       "    }\n",
       "</style>\n",
       "<table border=\"1\" class=\"dataframe\">\n",
       "  <thead>\n",
       "    <tr style=\"text-align: right;\">\n",
       "      <th></th>\n",
       "      <th>summary_summer</th>\n",
       "      <th>average_hasSale</th>\n",
       "      <th>unit_sales</th>\n",
       "    </tr>\n",
       "  </thead>\n",
       "  <tbody>\n",
       "    <tr>\n",
       "      <th>0</th>\n",
       "      <td>1.068617</td>\n",
       "      <td>1.163144</td>\n",
       "      <td>1.098612</td>\n",
       "    </tr>\n",
       "    <tr>\n",
       "      <th>1</th>\n",
       "      <td>1.066320</td>\n",
       "      <td>1.341491</td>\n",
       "      <td>0.693147</td>\n",
       "    </tr>\n",
       "    <tr>\n",
       "      <th>2</th>\n",
       "      <td>1.563300</td>\n",
       "      <td>1.661572</td>\n",
       "      <td>1.945910</td>\n",
       "    </tr>\n",
       "    <tr>\n",
       "      <th>3</th>\n",
       "      <td>2.420338</td>\n",
       "      <td>2.336398</td>\n",
       "      <td>2.564949</td>\n",
       "    </tr>\n",
       "    <tr>\n",
       "      <th>4</th>\n",
       "      <td>0.289639</td>\n",
       "      <td>1.199493</td>\n",
       "      <td>0.693147</td>\n",
       "    </tr>\n",
       "    <tr>\n",
       "      <th>5</th>\n",
       "      <td>1.082345</td>\n",
       "      <td>1.655754</td>\n",
       "      <td>1.609438</td>\n",
       "    </tr>\n",
       "    <tr>\n",
       "      <th>6</th>\n",
       "      <td>1.077014</td>\n",
       "      <td>1.170308</td>\n",
       "      <td>0.693147</td>\n",
       "    </tr>\n",
       "    <tr>\n",
       "      <th>7</th>\n",
       "      <td>0.452029</td>\n",
       "      <td>0.942318</td>\n",
       "      <td>2.079442</td>\n",
       "    </tr>\n",
       "    <tr>\n",
       "      <th>8</th>\n",
       "      <td>0.606949</td>\n",
       "      <td>1.015103</td>\n",
       "      <td>1.386294</td>\n",
       "    </tr>\n",
       "    <tr>\n",
       "      <th>9</th>\n",
       "      <td>0.972852</td>\n",
       "      <td>1.208910</td>\n",
       "      <td>1.098612</td>\n",
       "    </tr>\n",
       "    <tr>\n",
       "      <th>10</th>\n",
       "      <td>0.545615</td>\n",
       "      <td>0.963738</td>\n",
       "      <td>0.693147</td>\n",
       "    </tr>\n",
       "    <tr>\n",
       "      <th>11</th>\n",
       "      <td>0.816601</td>\n",
       "      <td>1.123386</td>\n",
       "      <td>2.079442</td>\n",
       "    </tr>\n",
       "    <tr>\n",
       "      <th>12</th>\n",
       "      <td>0.799466</td>\n",
       "      <td>1.272123</td>\n",
       "      <td>1.098612</td>\n",
       "    </tr>\n",
       "    <tr>\n",
       "      <th>13</th>\n",
       "      <td>0.533550</td>\n",
       "      <td>0.980489</td>\n",
       "      <td>1.098612</td>\n",
       "    </tr>\n",
       "    <tr>\n",
       "      <th>14</th>\n",
       "      <td>0.880498</td>\n",
       "      <td>1.115289</td>\n",
       "      <td>1.098612</td>\n",
       "    </tr>\n",
       "    <tr>\n",
       "      <th>15</th>\n",
       "      <td>1.509722</td>\n",
       "      <td>1.775894</td>\n",
       "      <td>2.079442</td>\n",
       "    </tr>\n",
       "    <tr>\n",
       "      <th>16</th>\n",
       "      <td>1.178449</td>\n",
       "      <td>1.305729</td>\n",
       "      <td>0.693147</td>\n",
       "    </tr>\n",
       "    <tr>\n",
       "      <th>17</th>\n",
       "      <td>0.762867</td>\n",
       "      <td>1.230309</td>\n",
       "      <td>1.386294</td>\n",
       "    </tr>\n",
       "    <tr>\n",
       "      <th>18</th>\n",
       "      <td>0.812866</td>\n",
       "      <td>1.287372</td>\n",
       "      <td>1.098612</td>\n",
       "    </tr>\n",
       "    <tr>\n",
       "      <th>19</th>\n",
       "      <td>1.687850</td>\n",
       "      <td>1.635564</td>\n",
       "      <td>1.945910</td>\n",
       "    </tr>\n",
       "    <tr>\n",
       "      <th>20</th>\n",
       "      <td>1.301965</td>\n",
       "      <td>1.466406</td>\n",
       "      <td>0.693147</td>\n",
       "    </tr>\n",
       "    <tr>\n",
       "      <th>21</th>\n",
       "      <td>0.984229</td>\n",
       "      <td>1.215714</td>\n",
       "      <td>1.098612</td>\n",
       "    </tr>\n",
       "    <tr>\n",
       "      <th>22</th>\n",
       "      <td>1.703399</td>\n",
       "      <td>1.932487</td>\n",
       "      <td>1.791759</td>\n",
       "    </tr>\n",
       "    <tr>\n",
       "      <th>23</th>\n",
       "      <td>1.305210</td>\n",
       "      <td>1.295184</td>\n",
       "      <td>1.098612</td>\n",
       "    </tr>\n",
       "    <tr>\n",
       "      <th>24</th>\n",
       "      <td>1.385699</td>\n",
       "      <td>1.523294</td>\n",
       "      <td>2.639057</td>\n",
       "    </tr>\n",
       "    <tr>\n",
       "      <th>25</th>\n",
       "      <td>1.117177</td>\n",
       "      <td>1.243930</td>\n",
       "      <td>1.386294</td>\n",
       "    </tr>\n",
       "    <tr>\n",
       "      <th>26</th>\n",
       "      <td>1.287422</td>\n",
       "      <td>1.546761</td>\n",
       "      <td>1.945910</td>\n",
       "    </tr>\n",
       "    <tr>\n",
       "      <th>27</th>\n",
       "      <td>2.037396</td>\n",
       "      <td>1.973478</td>\n",
       "      <td>2.397895</td>\n",
       "    </tr>\n",
       "    <tr>\n",
       "      <th>28</th>\n",
       "      <td>1.663478</td>\n",
       "      <td>1.748510</td>\n",
       "      <td>1.791759</td>\n",
       "    </tr>\n",
       "    <tr>\n",
       "      <th>29</th>\n",
       "      <td>1.820379</td>\n",
       "      <td>1.872787</td>\n",
       "      <td>1.791759</td>\n",
       "    </tr>\n",
       "    <tr>\n",
       "      <th>...</th>\n",
       "      <td>...</td>\n",
       "      <td>...</td>\n",
       "      <td>...</td>\n",
       "    </tr>\n",
       "    <tr>\n",
       "      <th>970</th>\n",
       "      <td>1.428257</td>\n",
       "      <td>1.639356</td>\n",
       "      <td>0.693147</td>\n",
       "    </tr>\n",
       "    <tr>\n",
       "      <th>971</th>\n",
       "      <td>0.097945</td>\n",
       "      <td>0.753967</td>\n",
       "      <td>0.693147</td>\n",
       "    </tr>\n",
       "    <tr>\n",
       "      <th>972</th>\n",
       "      <td>1.116405</td>\n",
       "      <td>1.475214</td>\n",
       "      <td>1.609438</td>\n",
       "    </tr>\n",
       "    <tr>\n",
       "      <th>973</th>\n",
       "      <td>1.575382</td>\n",
       "      <td>1.675590</td>\n",
       "      <td>1.945910</td>\n",
       "    </tr>\n",
       "    <tr>\n",
       "      <th>974</th>\n",
       "      <td>1.757823</td>\n",
       "      <td>1.764713</td>\n",
       "      <td>1.386294</td>\n",
       "    </tr>\n",
       "    <tr>\n",
       "      <th>975</th>\n",
       "      <td>0.598798</td>\n",
       "      <td>1.102058</td>\n",
       "      <td>0.693147</td>\n",
       "    </tr>\n",
       "    <tr>\n",
       "      <th>976</th>\n",
       "      <td>1.127863</td>\n",
       "      <td>1.253255</td>\n",
       "      <td>0.693147</td>\n",
       "    </tr>\n",
       "    <tr>\n",
       "      <th>977</th>\n",
       "      <td>0.768393</td>\n",
       "      <td>1.264612</td>\n",
       "      <td>1.547350</td>\n",
       "    </tr>\n",
       "    <tr>\n",
       "      <th>978</th>\n",
       "      <td>0.465893</td>\n",
       "      <td>0.982853</td>\n",
       "      <td>0.693147</td>\n",
       "    </tr>\n",
       "    <tr>\n",
       "      <th>979</th>\n",
       "      <td>1.272800</td>\n",
       "      <td>1.470335</td>\n",
       "      <td>1.098612</td>\n",
       "    </tr>\n",
       "    <tr>\n",
       "      <th>980</th>\n",
       "      <td>1.118861</td>\n",
       "      <td>1.162720</td>\n",
       "      <td>0.693147</td>\n",
       "    </tr>\n",
       "    <tr>\n",
       "      <th>981</th>\n",
       "      <td>0.536935</td>\n",
       "      <td>0.843289</td>\n",
       "      <td>0.693147</td>\n",
       "    </tr>\n",
       "    <tr>\n",
       "      <th>982</th>\n",
       "      <td>1.326753</td>\n",
       "      <td>1.368061</td>\n",
       "      <td>2.484907</td>\n",
       "    </tr>\n",
       "    <tr>\n",
       "      <th>983</th>\n",
       "      <td>1.174834</td>\n",
       "      <td>1.441374</td>\n",
       "      <td>2.302585</td>\n",
       "    </tr>\n",
       "    <tr>\n",
       "      <th>984</th>\n",
       "      <td>0.695804</td>\n",
       "      <td>1.084495</td>\n",
       "      <td>1.098612</td>\n",
       "    </tr>\n",
       "    <tr>\n",
       "      <th>985</th>\n",
       "      <td>1.771710</td>\n",
       "      <td>1.897619</td>\n",
       "      <td>2.079442</td>\n",
       "    </tr>\n",
       "    <tr>\n",
       "      <th>986</th>\n",
       "      <td>2.098404</td>\n",
       "      <td>2.172311</td>\n",
       "      <td>3.367296</td>\n",
       "    </tr>\n",
       "    <tr>\n",
       "      <th>987</th>\n",
       "      <td>1.245801</td>\n",
       "      <td>1.592519</td>\n",
       "      <td>0.693147</td>\n",
       "    </tr>\n",
       "    <tr>\n",
       "      <th>988</th>\n",
       "      <td>0.613251</td>\n",
       "      <td>0.933770</td>\n",
       "      <td>0.693147</td>\n",
       "    </tr>\n",
       "    <tr>\n",
       "      <th>989</th>\n",
       "      <td>0.382410</td>\n",
       "      <td>0.869302</td>\n",
       "      <td>1.098612</td>\n",
       "    </tr>\n",
       "    <tr>\n",
       "      <th>990</th>\n",
       "      <td>2.078972</td>\n",
       "      <td>2.564275</td>\n",
       "      <td>1.945910</td>\n",
       "    </tr>\n",
       "    <tr>\n",
       "      <th>991</th>\n",
       "      <td>1.347117</td>\n",
       "      <td>1.790343</td>\n",
       "      <td>1.609438</td>\n",
       "    </tr>\n",
       "    <tr>\n",
       "      <th>992</th>\n",
       "      <td>0.964067</td>\n",
       "      <td>1.302172</td>\n",
       "      <td>1.386294</td>\n",
       "    </tr>\n",
       "    <tr>\n",
       "      <th>993</th>\n",
       "      <td>1.467816</td>\n",
       "      <td>1.823210</td>\n",
       "      <td>1.791759</td>\n",
       "    </tr>\n",
       "    <tr>\n",
       "      <th>994</th>\n",
       "      <td>1.380396</td>\n",
       "      <td>1.470677</td>\n",
       "      <td>1.098612</td>\n",
       "    </tr>\n",
       "    <tr>\n",
       "      <th>995</th>\n",
       "      <td>1.162757</td>\n",
       "      <td>1.339881</td>\n",
       "      <td>1.791759</td>\n",
       "    </tr>\n",
       "    <tr>\n",
       "      <th>996</th>\n",
       "      <td>1.315755</td>\n",
       "      <td>1.425454</td>\n",
       "      <td>1.609438</td>\n",
       "    </tr>\n",
       "    <tr>\n",
       "      <th>997</th>\n",
       "      <td>1.294841</td>\n",
       "      <td>1.459368</td>\n",
       "      <td>1.098612</td>\n",
       "    </tr>\n",
       "    <tr>\n",
       "      <th>998</th>\n",
       "      <td>0.348399</td>\n",
       "      <td>1.632965</td>\n",
       "      <td>2.079442</td>\n",
       "    </tr>\n",
       "    <tr>\n",
       "      <th>999</th>\n",
       "      <td>1.332429</td>\n",
       "      <td>1.679807</td>\n",
       "      <td>1.791759</td>\n",
       "    </tr>\n",
       "  </tbody>\n",
       "</table>\n",
       "<p>1000 rows × 3 columns</p>\n",
       "</div>"
      ],
      "text/plain": [
       "<div>\n",
       "<style scoped>\n",
       "    .dataframe tbody tr th:only-of-type {\n",
       "        vertical-align: middle;\n",
       "    }\n",
       "\n",
       "    .dataframe tbody tr th {\n",
       "        vertical-align: top;\n",
       "    }\n",
       "\n",
       "    .dataframe thead th {\n",
       "        text-align: right;\n",
       "    }\n",
       "</style>\n",
       "<table border=\"1\" class=\"dataframe\">\n",
       "  <thead>\n",
       "    <tr style=\"text-align: right;\">\n",
       "      <th></th>\n",
       "      <th>summary_summer</th>\n",
       "      <th>average_hasSale</th>\n",
       "      <th>unit_sales</th>\n",
       "    </tr>\n",
       "  </thead>\n",
       "  <tbody>\n",
       "    <tr>\n",
       "      <th>0</th>\n",
       "      <td>1.068617</td>\n",
       "      <td>1.163144</td>\n",
       "      <td>1.098612</td>\n",
       "    </tr>\n",
       "    <tr>\n",
       "      <th>1</th>\n",
       "      <td>1.066320</td>\n",
       "      <td>1.341491</td>\n",
       "      <td>0.693147</td>\n",
       "    </tr>\n",
       "    <tr>\n",
       "      <th>2</th>\n",
       "      <td>1.563300</td>\n",
       "      <td>1.661572</td>\n",
       "      <td>1.945910</td>\n",
       "    </tr>\n",
       "    <tr>\n",
       "      <th>3</th>\n",
       "      <td>2.420338</td>\n",
       "      <td>2.336398</td>\n",
       "      <td>2.564949</td>\n",
       "    </tr>\n",
       "    <tr>\n",
       "      <th>4</th>\n",
       "      <td>0.289639</td>\n",
       "      <td>1.199493</td>\n",
       "      <td>0.693147</td>\n",
       "    </tr>\n",
       "    <tr>\n",
       "      <th>5</th>\n",
       "      <td>1.082345</td>\n",
       "      <td>1.655754</td>\n",
       "      <td>1.609438</td>\n",
       "    </tr>\n",
       "    <tr>\n",
       "      <th>6</th>\n",
       "      <td>1.077014</td>\n",
       "      <td>1.170308</td>\n",
       "      <td>0.693147</td>\n",
       "    </tr>\n",
       "    <tr>\n",
       "      <th>7</th>\n",
       "      <td>0.452029</td>\n",
       "      <td>0.942318</td>\n",
       "      <td>2.079442</td>\n",
       "    </tr>\n",
       "    <tr>\n",
       "      <th>8</th>\n",
       "      <td>0.606949</td>\n",
       "      <td>1.015103</td>\n",
       "      <td>1.386294</td>\n",
       "    </tr>\n",
       "    <tr>\n",
       "      <th>9</th>\n",
       "      <td>0.972852</td>\n",
       "      <td>1.208910</td>\n",
       "      <td>1.098612</td>\n",
       "    </tr>\n",
       "    <tr>\n",
       "      <th>10</th>\n",
       "      <td>0.545615</td>\n",
       "      <td>0.963738</td>\n",
       "      <td>0.693147</td>\n",
       "    </tr>\n",
       "    <tr>\n",
       "      <th>11</th>\n",
       "      <td>0.816601</td>\n",
       "      <td>1.123386</td>\n",
       "      <td>2.079442</td>\n",
       "    </tr>\n",
       "    <tr>\n",
       "      <th>12</th>\n",
       "      <td>0.799466</td>\n",
       "      <td>1.272123</td>\n",
       "      <td>1.098612</td>\n",
       "    </tr>\n",
       "    <tr>\n",
       "      <th>13</th>\n",
       "      <td>0.533550</td>\n",
       "      <td>0.980489</td>\n",
       "      <td>1.098612</td>\n",
       "    </tr>\n",
       "    <tr>\n",
       "      <th>14</th>\n",
       "      <td>0.880498</td>\n",
       "      <td>1.115289</td>\n",
       "      <td>1.098612</td>\n",
       "    </tr>\n",
       "    <tr>\n",
       "      <th>15</th>\n",
       "      <td>1.509722</td>\n",
       "      <td>1.775894</td>\n",
       "      <td>2.079442</td>\n",
       "    </tr>\n",
       "    <tr>\n",
       "      <th>16</th>\n",
       "      <td>1.178449</td>\n",
       "      <td>1.305729</td>\n",
       "      <td>0.693147</td>\n",
       "    </tr>\n",
       "    <tr>\n",
       "      <th>17</th>\n",
       "      <td>0.762867</td>\n",
       "      <td>1.230309</td>\n",
       "      <td>1.386294</td>\n",
       "    </tr>\n",
       "    <tr>\n",
       "      <th>18</th>\n",
       "      <td>0.812866</td>\n",
       "      <td>1.287372</td>\n",
       "      <td>1.098612</td>\n",
       "    </tr>\n",
       "    <tr>\n",
       "      <th>19</th>\n",
       "      <td>1.687850</td>\n",
       "      <td>1.635564</td>\n",
       "      <td>1.945910</td>\n",
       "    </tr>\n",
       "    <tr>\n",
       "      <th>20</th>\n",
       "      <td>1.301965</td>\n",
       "      <td>1.466406</td>\n",
       "      <td>0.693147</td>\n",
       "    </tr>\n",
       "    <tr>\n",
       "      <th>21</th>\n",
       "      <td>0.984229</td>\n",
       "      <td>1.215714</td>\n",
       "      <td>1.098612</td>\n",
       "    </tr>\n",
       "    <tr>\n",
       "      <th>22</th>\n",
       "      <td>1.703399</td>\n",
       "      <td>1.932487</td>\n",
       "      <td>1.791759</td>\n",
       "    </tr>\n",
       "    <tr>\n",
       "      <th>23</th>\n",
       "      <td>1.305210</td>\n",
       "      <td>1.295184</td>\n",
       "      <td>1.098612</td>\n",
       "    </tr>\n",
       "    <tr>\n",
       "      <th>24</th>\n",
       "      <td>1.385699</td>\n",
       "      <td>1.523294</td>\n",
       "      <td>2.639057</td>\n",
       "    </tr>\n",
       "    <tr>\n",
       "      <th>25</th>\n",
       "      <td>1.117177</td>\n",
       "      <td>1.243930</td>\n",
       "      <td>1.386294</td>\n",
       "    </tr>\n",
       "    <tr>\n",
       "      <th>26</th>\n",
       "      <td>1.287422</td>\n",
       "      <td>1.546761</td>\n",
       "      <td>1.945910</td>\n",
       "    </tr>\n",
       "    <tr>\n",
       "      <th>27</th>\n",
       "      <td>2.037396</td>\n",
       "      <td>1.973478</td>\n",
       "      <td>2.397895</td>\n",
       "    </tr>\n",
       "    <tr>\n",
       "      <th>28</th>\n",
       "      <td>1.663478</td>\n",
       "      <td>1.748510</td>\n",
       "      <td>1.791759</td>\n",
       "    </tr>\n",
       "    <tr>\n",
       "      <th>29</th>\n",
       "      <td>1.820379</td>\n",
       "      <td>1.872787</td>\n",
       "      <td>1.791759</td>\n",
       "    </tr>\n",
       "    <tr>\n",
       "      <th>...</th>\n",
       "      <td>...</td>\n",
       "      <td>...</td>\n",
       "      <td>...</td>\n",
       "    </tr>\n",
       "    <tr>\n",
       "      <th>970</th>\n",
       "      <td>1.428257</td>\n",
       "      <td>1.639356</td>\n",
       "      <td>0.693147</td>\n",
       "    </tr>\n",
       "    <tr>\n",
       "      <th>971</th>\n",
       "      <td>0.097945</td>\n",
       "      <td>0.753967</td>\n",
       "      <td>0.693147</td>\n",
       "    </tr>\n",
       "    <tr>\n",
       "      <th>972</th>\n",
       "      <td>1.116405</td>\n",
       "      <td>1.475214</td>\n",
       "      <td>1.609438</td>\n",
       "    </tr>\n",
       "    <tr>\n",
       "      <th>973</th>\n",
       "      <td>1.575382</td>\n",
       "      <td>1.675590</td>\n",
       "      <td>1.945910</td>\n",
       "    </tr>\n",
       "    <tr>\n",
       "      <th>974</th>\n",
       "      <td>1.757823</td>\n",
       "      <td>1.764713</td>\n",
       "      <td>1.386294</td>\n",
       "    </tr>\n",
       "    <tr>\n",
       "      <th>975</th>\n",
       "      <td>0.598798</td>\n",
       "      <td>1.102058</td>\n",
       "      <td>0.693147</td>\n",
       "    </tr>\n",
       "    <tr>\n",
       "      <th>976</th>\n",
       "      <td>1.127863</td>\n",
       "      <td>1.253255</td>\n",
       "      <td>0.693147</td>\n",
       "    </tr>\n",
       "    <tr>\n",
       "      <th>977</th>\n",
       "      <td>0.768393</td>\n",
       "      <td>1.264612</td>\n",
       "      <td>1.547350</td>\n",
       "    </tr>\n",
       "    <tr>\n",
       "      <th>978</th>\n",
       "      <td>0.465893</td>\n",
       "      <td>0.982853</td>\n",
       "      <td>0.693147</td>\n",
       "    </tr>\n",
       "    <tr>\n",
       "      <th>979</th>\n",
       "      <td>1.272800</td>\n",
       "      <td>1.470335</td>\n",
       "      <td>1.098612</td>\n",
       "    </tr>\n",
       "    <tr>\n",
       "      <th>980</th>\n",
       "      <td>1.118861</td>\n",
       "      <td>1.162720</td>\n",
       "      <td>0.693147</td>\n",
       "    </tr>\n",
       "    <tr>\n",
       "      <th>981</th>\n",
       "      <td>0.536935</td>\n",
       "      <td>0.843289</td>\n",
       "      <td>0.693147</td>\n",
       "    </tr>\n",
       "    <tr>\n",
       "      <th>982</th>\n",
       "      <td>1.326753</td>\n",
       "      <td>1.368061</td>\n",
       "      <td>2.484907</td>\n",
       "    </tr>\n",
       "    <tr>\n",
       "      <th>983</th>\n",
       "      <td>1.174834</td>\n",
       "      <td>1.441374</td>\n",
       "      <td>2.302585</td>\n",
       "    </tr>\n",
       "    <tr>\n",
       "      <th>984</th>\n",
       "      <td>0.695804</td>\n",
       "      <td>1.084495</td>\n",
       "      <td>1.098612</td>\n",
       "    </tr>\n",
       "    <tr>\n",
       "      <th>985</th>\n",
       "      <td>1.771710</td>\n",
       "      <td>1.897619</td>\n",
       "      <td>2.079442</td>\n",
       "    </tr>\n",
       "    <tr>\n",
       "      <th>986</th>\n",
       "      <td>2.098404</td>\n",
       "      <td>2.172311</td>\n",
       "      <td>3.367296</td>\n",
       "    </tr>\n",
       "    <tr>\n",
       "      <th>987</th>\n",
       "      <td>1.245801</td>\n",
       "      <td>1.592519</td>\n",
       "      <td>0.693147</td>\n",
       "    </tr>\n",
       "    <tr>\n",
       "      <th>988</th>\n",
       "      <td>0.613251</td>\n",
       "      <td>0.933770</td>\n",
       "      <td>0.693147</td>\n",
       "    </tr>\n",
       "    <tr>\n",
       "      <th>989</th>\n",
       "      <td>0.382410</td>\n",
       "      <td>0.869302</td>\n",
       "      <td>1.098612</td>\n",
       "    </tr>\n",
       "    <tr>\n",
       "      <th>990</th>\n",
       "      <td>2.078972</td>\n",
       "      <td>2.564275</td>\n",
       "      <td>1.945910</td>\n",
       "    </tr>\n",
       "    <tr>\n",
       "      <th>991</th>\n",
       "      <td>1.347117</td>\n",
       "      <td>1.790343</td>\n",
       "      <td>1.609438</td>\n",
       "    </tr>\n",
       "    <tr>\n",
       "      <th>992</th>\n",
       "      <td>0.964067</td>\n",
       "      <td>1.302172</td>\n",
       "      <td>1.386294</td>\n",
       "    </tr>\n",
       "    <tr>\n",
       "      <th>993</th>\n",
       "      <td>1.467816</td>\n",
       "      <td>1.823210</td>\n",
       "      <td>1.791759</td>\n",
       "    </tr>\n",
       "    <tr>\n",
       "      <th>994</th>\n",
       "      <td>1.380396</td>\n",
       "      <td>1.470677</td>\n",
       "      <td>1.098612</td>\n",
       "    </tr>\n",
       "    <tr>\n",
       "      <th>995</th>\n",
       "      <td>1.162757</td>\n",
       "      <td>1.339881</td>\n",
       "      <td>1.791759</td>\n",
       "    </tr>\n",
       "    <tr>\n",
       "      <th>996</th>\n",
       "      <td>1.315755</td>\n",
       "      <td>1.425454</td>\n",
       "      <td>1.609438</td>\n",
       "    </tr>\n",
       "    <tr>\n",
       "      <th>997</th>\n",
       "      <td>1.294841</td>\n",
       "      <td>1.459368</td>\n",
       "      <td>1.098612</td>\n",
       "    </tr>\n",
       "    <tr>\n",
       "      <th>998</th>\n",
       "      <td>0.348399</td>\n",
       "      <td>1.632965</td>\n",
       "      <td>2.079442</td>\n",
       "    </tr>\n",
       "    <tr>\n",
       "      <th>999</th>\n",
       "      <td>1.332429</td>\n",
       "      <td>1.679807</td>\n",
       "      <td>1.791759</td>\n",
       "    </tr>\n",
       "  </tbody>\n",
       "</table>\n",
       "<p>1000 rows × 3 columns</p>\n",
       "</div>"
      ]
     },
     "execution_count": 262,
     "metadata": {},
     "output_type": "execute_result"
    }
   ],
   "source": [
    "train[[\"summary_summer\",\"average_hasSale\",\"unit_sales\"]].head(1000)"
   ]
  },
  {
   "cell_type": "code",
   "execution_count": 359,
   "metadata": {
    "collapsed": true
   },
   "outputs": [
    {
     "data": {
      "text/html": [
       "<div>\n",
       "<style scoped>\n",
       "    .dataframe tbody tr th:only-of-type {\n",
       "        vertical-align: middle;\n",
       "    }\n",
       "\n",
       "    .dataframe tbody tr th {\n",
       "        vertical-align: top;\n",
       "    }\n",
       "\n",
       "    .dataframe thead th {\n",
       "        text-align: right;\n",
       "    }\n",
       "</style>\n",
       "<table border=\"1\" class=\"dataframe\">\n",
       "  <thead>\n",
       "    <tr style=\"text-align: right;\">\n",
       "      <th></th>\n",
       "      <th>feature</th>\n",
       "      <th>gain</th>\n",
       "      <th>split</th>\n",
       "    </tr>\n",
       "  </thead>\n",
       "  <tbody>\n",
       "    <tr>\n",
       "      <th>18</th>\n",
       "      <td>summary_summer</td>\n",
       "      <td>94.720739</td>\n",
       "      <td>367</td>\n",
       "    </tr>\n",
       "    <tr>\n",
       "      <th>1</th>\n",
       "      <td>item_nbr</td>\n",
       "      <td>1.446891</td>\n",
       "      <td>1755</td>\n",
       "    </tr>\n",
       "    <tr>\n",
       "      <th>0</th>\n",
       "      <td>store_nbr</td>\n",
       "      <td>0.730956</td>\n",
       "      <td>567</td>\n",
       "    </tr>\n",
       "    <tr>\n",
       "      <th>17</th>\n",
       "      <td>weekday</td>\n",
       "      <td>0.697269</td>\n",
       "      <td>266</td>\n",
       "    </tr>\n",
       "    <tr>\n",
       "      <th>12</th>\n",
       "      <td>dcoilwtico</td>\n",
       "      <td>0.595887</td>\n",
       "      <td>99</td>\n",
       "    </tr>\n",
       "    <tr>\n",
       "      <th>16</th>\n",
       "      <td>time_diff</td>\n",
       "      <td>0.420815</td>\n",
       "      <td>412</td>\n",
       "    </tr>\n",
       "    <tr>\n",
       "      <th>15</th>\n",
       "      <td>day</td>\n",
       "      <td>0.271008</td>\n",
       "      <td>217</td>\n",
       "    </tr>\n",
       "    <tr>\n",
       "      <th>19</th>\n",
       "      <td>summary_HasSaleSummer</td>\n",
       "      <td>0.268421</td>\n",
       "      <td>248</td>\n",
       "    </tr>\n",
       "    <tr>\n",
       "      <th>13</th>\n",
       "      <td>year</td>\n",
       "      <td>0.262185</td>\n",
       "      <td>105</td>\n",
       "    </tr>\n",
       "    <tr>\n",
       "      <th>6</th>\n",
       "      <td>class</td>\n",
       "      <td>0.219872</td>\n",
       "      <td>187</td>\n",
       "    </tr>\n",
       "    <tr>\n",
       "      <th>14</th>\n",
       "      <td>month</td>\n",
       "      <td>0.157600</td>\n",
       "      <td>133</td>\n",
       "    </tr>\n",
       "    <tr>\n",
       "      <th>2</th>\n",
       "      <td>average_1</td>\n",
       "      <td>0.071002</td>\n",
       "      <td>94</td>\n",
       "    </tr>\n",
       "    <tr>\n",
       "      <th>3</th>\n",
       "      <td>average_2</td>\n",
       "      <td>0.061603</td>\n",
       "      <td>58</td>\n",
       "    </tr>\n",
       "    <tr>\n",
       "      <th>20</th>\n",
       "      <td>summary_item_mean</td>\n",
       "      <td>0.039302</td>\n",
       "      <td>111</td>\n",
       "    </tr>\n",
       "    <tr>\n",
       "      <th>5</th>\n",
       "      <td>family</td>\n",
       "      <td>0.013607</td>\n",
       "      <td>6</td>\n",
       "    </tr>\n",
       "    <tr>\n",
       "      <th>4</th>\n",
       "      <td>average_4</td>\n",
       "      <td>0.012468</td>\n",
       "      <td>23</td>\n",
       "    </tr>\n",
       "    <tr>\n",
       "      <th>11</th>\n",
       "      <td>cluster</td>\n",
       "      <td>0.008170</td>\n",
       "      <td>6</td>\n",
       "    </tr>\n",
       "    <tr>\n",
       "      <th>7</th>\n",
       "      <td>perishable</td>\n",
       "      <td>0.001644</td>\n",
       "      <td>6</td>\n",
       "    </tr>\n",
       "    <tr>\n",
       "      <th>8</th>\n",
       "      <td>city</td>\n",
       "      <td>0.000436</td>\n",
       "      <td>1</td>\n",
       "    </tr>\n",
       "    <tr>\n",
       "      <th>10</th>\n",
       "      <td>type</td>\n",
       "      <td>0.000124</td>\n",
       "      <td>1</td>\n",
       "    </tr>\n",
       "    <tr>\n",
       "      <th>9</th>\n",
       "      <td>state</td>\n",
       "      <td>0.000000</td>\n",
       "      <td>0</td>\n",
       "    </tr>\n",
       "  </tbody>\n",
       "</table>\n",
       "</div>"
      ],
      "text/plain": [
       "<div>\n",
       "<style scoped>\n",
       "    .dataframe tbody tr th:only-of-type {\n",
       "        vertical-align: middle;\n",
       "    }\n",
       "\n",
       "    .dataframe tbody tr th {\n",
       "        vertical-align: top;\n",
       "    }\n",
       "\n",
       "    .dataframe thead th {\n",
       "        text-align: right;\n",
       "    }\n",
       "</style>\n",
       "<table border=\"1\" class=\"dataframe\">\n",
       "  <thead>\n",
       "    <tr style=\"text-align: right;\">\n",
       "      <th></th>\n",
       "      <th>feature</th>\n",
       "      <th>gain</th>\n",
       "      <th>split</th>\n",
       "    </tr>\n",
       "  </thead>\n",
       "  <tbody>\n",
       "    <tr>\n",
       "      <th>18</th>\n",
       "      <td>summary_summer</td>\n",
       "      <td>94.720739</td>\n",
       "      <td>367</td>\n",
       "    </tr>\n",
       "    <tr>\n",
       "      <th>1</th>\n",
       "      <td>item_nbr</td>\n",
       "      <td>1.446891</td>\n",
       "      <td>1755</td>\n",
       "    </tr>\n",
       "    <tr>\n",
       "      <th>0</th>\n",
       "      <td>store_nbr</td>\n",
       "      <td>0.730956</td>\n",
       "      <td>567</td>\n",
       "    </tr>\n",
       "    <tr>\n",
       "      <th>17</th>\n",
       "      <td>weekday</td>\n",
       "      <td>0.697269</td>\n",
       "      <td>266</td>\n",
       "    </tr>\n",
       "    <tr>\n",
       "      <th>12</th>\n",
       "      <td>dcoilwtico</td>\n",
       "      <td>0.595887</td>\n",
       "      <td>99</td>\n",
       "    </tr>\n",
       "    <tr>\n",
       "      <th>16</th>\n",
       "      <td>time_diff</td>\n",
       "      <td>0.420815</td>\n",
       "      <td>412</td>\n",
       "    </tr>\n",
       "    <tr>\n",
       "      <th>15</th>\n",
       "      <td>day</td>\n",
       "      <td>0.271008</td>\n",
       "      <td>217</td>\n",
       "    </tr>\n",
       "    <tr>\n",
       "      <th>19</th>\n",
       "      <td>summary_HasSaleSummer</td>\n",
       "      <td>0.268421</td>\n",
       "      <td>248</td>\n",
       "    </tr>\n",
       "    <tr>\n",
       "      <th>13</th>\n",
       "      <td>year</td>\n",
       "      <td>0.262185</td>\n",
       "      <td>105</td>\n",
       "    </tr>\n",
       "    <tr>\n",
       "      <th>6</th>\n",
       "      <td>class</td>\n",
       "      <td>0.219872</td>\n",
       "      <td>187</td>\n",
       "    </tr>\n",
       "    <tr>\n",
       "      <th>14</th>\n",
       "      <td>month</td>\n",
       "      <td>0.157600</td>\n",
       "      <td>133</td>\n",
       "    </tr>\n",
       "    <tr>\n",
       "      <th>2</th>\n",
       "      <td>average_1</td>\n",
       "      <td>0.071002</td>\n",
       "      <td>94</td>\n",
       "    </tr>\n",
       "    <tr>\n",
       "      <th>3</th>\n",
       "      <td>average_2</td>\n",
       "      <td>0.061603</td>\n",
       "      <td>58</td>\n",
       "    </tr>\n",
       "    <tr>\n",
       "      <th>20</th>\n",
       "      <td>summary_item_mean</td>\n",
       "      <td>0.039302</td>\n",
       "      <td>111</td>\n",
       "    </tr>\n",
       "    <tr>\n",
       "      <th>5</th>\n",
       "      <td>family</td>\n",
       "      <td>0.013607</td>\n",
       "      <td>6</td>\n",
       "    </tr>\n",
       "    <tr>\n",
       "      <th>4</th>\n",
       "      <td>average_4</td>\n",
       "      <td>0.012468</td>\n",
       "      <td>23</td>\n",
       "    </tr>\n",
       "    <tr>\n",
       "      <th>11</th>\n",
       "      <td>cluster</td>\n",
       "      <td>0.008170</td>\n",
       "      <td>6</td>\n",
       "    </tr>\n",
       "    <tr>\n",
       "      <th>7</th>\n",
       "      <td>perishable</td>\n",
       "      <td>0.001644</td>\n",
       "      <td>6</td>\n",
       "    </tr>\n",
       "    <tr>\n",
       "      <th>8</th>\n",
       "      <td>city</td>\n",
       "      <td>0.000436</td>\n",
       "      <td>1</td>\n",
       "    </tr>\n",
       "    <tr>\n",
       "      <th>10</th>\n",
       "      <td>type</td>\n",
       "      <td>0.000124</td>\n",
       "      <td>1</td>\n",
       "    </tr>\n",
       "    <tr>\n",
       "      <th>9</th>\n",
       "      <td>state</td>\n",
       "      <td>0.000000</td>\n",
       "      <td>0</td>\n",
       "    </tr>\n",
       "  </tbody>\n",
       "</table>\n",
       "</div>"
      ]
     },
     "execution_count": 359,
     "metadata": {},
     "output_type": "execute_result"
    }
   ],
   "source": [
    "gain = model_f2.feature_importance('gain')\n",
    "ft = pd.DataFrame({'feature':model_f2.feature_name(), 'split':model_f2.feature_importance('split'), \n",
    "                   'gain':100 * gain / gain.sum()}).sort_values('gain', ascending=False)\n",
    "ft"
   ]
  },
  {
   "cell_type": "code",
   "execution_count": 3,
   "metadata": {},
   "outputs": [],
   "source": [
    "df = pd.DataFrame({'a': np.random.randn(1000),\n",
    " 'b': np.random.randn(1000),'N': np.random.randint(100, 1000, (1000)),\n",
    " 'x': 'x'})"
   ]
  },
  {
   "cell_type": "code",
   "execution_count": 6,
   "metadata": {},
   "outputs": [],
   "source": [
    "def integrate_f(a,b,n):\n",
    "  return a+b+n"
   ]
  },
  {
   "cell_type": "code",
   "execution_count": 7,
   "metadata": {},
   "outputs": [
    {
     "name": "stdout",
     "output_type": "stream",
     "text": [
      "65.9 ms ± 15 ms per loop (mean ± std. dev. of 7 runs, 10 loops each)\n"
     ]
    }
   ],
   "source": [
    "%timeit df.apply(lambda x: integrate_f(x['a'], x['b'], x['N']), axis=1)"
   ]
  },
  {
   "cell_type": "code",
   "execution_count": 17,
   "metadata": {
    "collapsed": false
   },
   "outputs": [
    {
     "name": "stdout",
     "output_type": "stream",
     "text": [
      " "
     ]
    }
   ],
   "source": [
    "p=%prun -r df.apply(lambda x: integrate_f(x['a'], x['b'], x['N']), axis=1)"
   ]
  },
  {
   "cell_type": "code",
   "execution_count": 18,
   "metadata": {
    "collapsed": true
   },
   "outputs": [
    {
     "name": "stdout",
     "output_type": "stream",
     "text": [
      "         118576 function calls (113567 primitive calls) in 0.157 seconds\n\n   Ordered by: internal time\n\n   ncalls  tottime  percall  cumtime  percall filename:lineno(function)\n     3000    0.020    0.000    0.100    0.000 base.py:2537(get_value)\n     3000    0.013    0.000    0.115    0.000 series.py:620(__getitem__)\n        1    0.010    0.010    0.150    0.150 {pandas._libs.lib.reduce}\n     9027    0.008    0.000    0.018    0.000 {built-in method builtins.getattr}\n     3000    0.008    0.000    0.008    0.000 {method 'get_value' of 'pandas._libs.index.IndexEngine' objects}\n     3000    0.008    0.000    0.014    0.000 internals.py:4513(get_values)\n     6000    0.007    0.000    0.024    0.000 {pandas._libs.lib.values_from_object}\n     3000    0.007    0.000    0.020    0.000 base.py:1360(_convert_scalar_indexer)\n     8118    0.006    0.000    0.009    0.000 {built-in method builtins.isinstance}\n10067/5058    0.006    0.000    0.009    0.000 {built-in method builtins.len}\n     1000    0.005    0.000    0.121    0.000 <string>:1(<lambda>)\n     3000    0.005    0.000    0.007    0.000 internals.py:4506(internal_values)\n     1003    0.005    0.000    0.014    0.000 series.py:300(_set_axis)\n    10002    0.004    0.000    0.004    0.000 internals.py:4409(_block)\n     3000    0.004    0.000    0.006    0.000 internals.py:4479(dtype)\n     3000    0.003    0.000    0.009    0.000 series.py:347(dtype)\n     3002    0.003    0.000    0.003    0.000 {method 'view' of 'numpy.ndarray' objects}\n     5009    0.003    0.000    0.004    0.000 base.py:557(__len__)\n     3000    0.003    0.000    0.010    0.000 series.py:400(_values)\n     1000    0.003    0.000    0.007    0.000 internals.py:3066(set_axis)\n     3000    0.002    0.000    0.017    0.000 series.py:411(get_values)\n     3022    0.002    0.000    0.003    0.000 generic.py:7(_check)\n     3000    0.002    0.000    0.005    0.000 internals.py:178(to_dense)\n     1003    0.002    0.000    0.004    0.000 series.py:340(name)\n     3000    0.002    0.000    0.002    0.000 common.py:464(_apply_if_callable)\n     2003    0.002    0.000    0.002    0.000 base.py:4155(_ensure_index)\n     3003    0.001    0.000    0.001    0.000 internals.py:307(dtype)\n     1001    0.001    0.000    0.002    0.000 inference.py:365(is_hashable)\n     1003    0.001    0.000    0.001    0.000 series.py:326(_set_subtyp)\n     3004    0.001    0.000    0.001    0.000 {built-in method numpy.core.multiarray.array}\n     1000    0.001    0.000    0.001    0.000 <ipython-input-6-80a9a917cbb7>:1(integrate_f)\n     3000    0.001    0.000    0.001    0.000 internals.py:159(internal_values)\n     3000    0.001    0.000    0.001    0.000 {built-in method pandas._libs.lib.isscalar}\n     3000    0.001    0.000    0.001    0.000 {built-in method pandas._libs.lib.is_float}\n        3    0.001    0.000    0.001    0.000 {method 'astype' of 'numpy.ndarray' objects}\n     3000    0.000    0.000    0.000    0.000 {built-in method builtins.callable}\n        3    0.000    0.000    0.002    0.001 series.py:155(__init__)\n     1001    0.000    0.000    0.000    0.000 {built-in method builtins.hash}\n        1    0.000    0.000    0.156    0.156 frame.py:4907(_apply_standard)\n        1    0.000    0.000    0.157    0.157 frame.py:4774(apply)\n        1    0.000    0.000    0.003    0.003 internals.py:3680(_interleave)\n        1    0.000    0.000    0.003    0.003 internals.py:3666(as_matrix)\n        1    0.000    0.000    0.157    0.157 <string>:1(<module>)\n        3    0.000    0.000    0.000    0.000 internals.py:2921(make_block)\n        5    0.000    0.000    0.000    0.000 range.py:469(__len__)\n        3    0.000    0.000    0.001    0.000 series.py:3136(_sanitize_array)\n        1    0.000    0.000    0.000    0.000 internals.py:3553(<listcomp>)\n        1    0.000    0.000    0.001    0.001 cast.py:1049(find_common_type)\n        2    0.000    0.000    0.000    0.000 cast.py:935(maybe_cast_to_datetime)\n        2    0.000    0.000    0.000    0.000 numerictypes.py:942(_can_coerce_all)\n        1    0.000    0.000    0.000    0.000 numerictypes.py:964(find_common_type)\n        1    0.000    0.000    0.157    0.157 {built-in method builtins.exec}\n        4    0.000    0.000    0.000    0.000 generic.py:3616(__setattr__)\n        1    0.000    0.000    0.000    0.000 cast.py:838(maybe_infer_to_datetimelike)\n        2    0.000    0.000    0.000    0.000 {built-in method numpy.core.multiarray.empty}\n        2    0.000    0.000    0.000    0.000 internals.py:2076(__init__)\n        1    0.000    0.000    0.001    0.001 internals.py:4828(_interleaved_dtype)\n        3    0.000    0.000    0.001    0.000 generic.py:3661(_protect_consolidate)\n        1    0.000    0.000    0.000    0.000 generic.py:346(_get_axis_number)\n        2    0.000    0.000    0.000    0.000 internals.py:3537(is_mixed_type)\n        3    0.000    0.000    0.001    0.000 series.py:3153(_try_cast)\n        1    0.000    0.000    0.000    0.000 common.py:657(is_dtype_equal)\n       13    0.000    0.000    0.000    0.000 common.py:1773(_get_dtype_type)\n        1    0.000    0.000    0.000    0.000 {method 'reduce' of 'numpy.ufunc' objects}\n        3    0.000    0.000    0.001    0.000 internals.py:4363(__init__)\n        3    0.000    0.000    0.000    0.000 common.py:1545(is_bool_dtype)\n        3    0.000    0.000    0.001    0.000 internals.py:169(get_values)\n        5    0.000    0.000    0.000    0.000 common.py:478(is_categorical_dtype)\n        2    0.000    0.000    0.000    0.000 common.py:1903(pandas_dtype)\n        3    0.000    0.000    0.000    0.000 internals.py:3829(_consolidate_inplace)\n        1    0.000    0.000    0.000    0.000 generic.py:3712(<lambda>)\n        2    0.000    0.000    0.000    0.000 cast.py:1074(<genexpr>)\n        3    0.000    0.000    0.000    0.000 common.py:1596(is_extension_type)\n        1    0.000    0.000    0.000    0.000 internals.py:4832(<listcomp>)\n        1    0.000    0.000    0.003    0.003 generic.py:3753(as_matrix)\n        3    0.000    0.000    0.000    0.000 common.py:297(is_datetime64_dtype)\n        4    0.000    0.000    0.000    0.000 {built-in method builtins.all}\n        3    0.000    0.000    0.000    0.000 generic.py:120(__init__)\n        1    0.000    0.000    0.000    0.000 {method 'all' of 'numpy.ndarray' objects}\n        3    0.000    0.000    0.000    0.000 cast.py:826(maybe_castable)\n        5    0.000    0.000    0.000    0.000 common.py:191(is_categorical)\n        1    0.000    0.000    0.000    0.000 {built-in method pandas._libs.lib.infer_datetimelike_array}\n       11    0.000    0.000    0.000    0.000 dtypes.py:85(is_dtype)\n        1    0.000    0.000    0.000    0.000 _methods.py:40(_all)\n        1    0.000    0.000    0.000    0.000 generic.py:3710(_is_mixed_type)\n        1    0.000    0.000    0.000    0.000 internals.py:3102(_is_single_block)\n        2    0.000    0.000    0.000    0.000 internals.py:4503(external_values)\n        2    0.000    0.000    0.000    0.000 common.py:1722(_get_dtype)\n        1    0.000    0.000    0.000    0.000 internals.py:3062(ndim)\n        2    0.000    0.000    0.000    0.000 internals.py:3058(shape)\n        3    0.000    0.000    0.000    0.000 {built-in method builtins.any}\n        3    0.000    0.000    0.000    0.000 internals.py:107(__init__)\n        3    0.000    0.000    0.000    0.000 series.py:336(name)\n       30    0.000    0.000    0.000    0.000 {built-in method builtins.issubclass}\n        3    0.000    0.000    0.000    0.000 generic.py:3600(__getattr__)\n        1    0.000    0.000    0.000    0.000 internals.py:3549(is_datelike_mixed_type)\n        2    0.000    0.000    0.000    0.000 common.py:372(is_timedelta64_dtype)\n        1    0.000    0.000    0.000    0.000 inference.py:234(is_list_like)\n        1    0.000    0.000    0.000    0.000 base.py:1209(_has_complex_internals)\n        2    0.000    0.000    0.000    0.000 base.py:588(values)\n        1    0.000    0.000    0.000    0.000 generic.py:148(_validate_dtype)\n        5    0.000    0.000    0.000    0.000 common.py:223(is_datetimetz)\n        2    0.000    0.000    0.000    0.000 cast.py:1081(<genexpr>)\n        1    0.000    0.000    0.000    0.000 generic.py:3674(f)\n        2    0.000    0.000    0.000    0.000 generic.py:359(_get_axis_name)\n       19    0.000    0.000    0.000    0.000 numerictypes.py:951(<listcomp>)\n        4    0.000    0.000    0.000    0.000 cast.py:1088(<genexpr>)\n        2    0.000    0.000    0.000    0.000 series.py:367(values)\n        1    0.000    0.000    0.000    0.000 frame.py:543(shape)\n        2    0.000    0.000    0.000    0.000 cast.py:1083(<genexpr>)\n        1    0.000    0.000    0.000    0.000 common.py:1493(is_float_dtype)\n        3    0.000    0.000    0.000    0.000 internals.py:226(mgr_locs)\n        1    0.000    0.000    0.000    0.000 generic.py:3722(<lambda>)\n        3    0.000    0.000    0.000    0.000 common.py:118(is_sparse)\n       15    0.000    0.000    0.000    0.000 {built-in method builtins.hasattr}\n        1    0.000    0.000    0.000    0.000 {built-in method numpy.core.multiarray.zeros}\n        3    0.000    0.000    0.000    0.000 internals.py:135(is_datelike)\n        4    0.000    0.000    0.000    0.000 common.py:85(is_object_dtype)\n        1    0.000    0.000    0.000    0.000 abc.py:178(__instancecheck__)\n        4    0.000    0.000    0.000    0.000 cast.py:1077(<genexpr>)\n        1    0.000    0.000    0.000    0.000 {built-in method pandas._libs.algos.ensure_object}\n        1    0.000    0.000    0.003    0.003 generic.py:3795(values)\n        2    0.000    0.000    0.000    0.000 generic.py:372(_get_axis)\n        1    0.000    0.000    0.000    0.000 _weakrefset.py:70(__contains__)\n        1    0.000    0.000    0.000    0.000 frame.py:5877(_get_agg_axis)\n        6    0.000    0.000    0.000    0.000 internals.py:3060(<genexpr>)\n        4    0.000    0.000    0.000    0.000 internals.py:3524(is_consolidated)\n        1    0.000    0.000    0.000    0.000 generic.py:3671(_consolidate_inplace)\n        6    0.000    0.000    0.000    0.000 internals.py:189(mgr_locs)\n        3    0.000    0.000    0.000    0.000 {method 'get' of 'dict' objects}\n        1    0.000    0.000    0.000    0.000 internals.py:3813(consolidate)\n        1    0.000    0.000    0.000    0.000 {built-in method pandas._libs.lib.is_integer}\n        6    0.000    0.000    0.000    0.000 common.py:334(is_datetime64tz_dtype)\n        1    0.000    0.000    0.000    0.000 numeric.py:99(is_all_dates)\n        5    0.000    0.000    0.000    0.000 {built-in method builtins.max}\n        4    0.000    0.000    0.000    0.000 <frozen importlib._bootstrap>:996(_handle_fromlist)\n        1    0.000    0.000    0.000    0.000 numerictypes.py:1015(<listcomp>)\n        1    0.000    0.000    0.000    0.000 generic.py:3720(_is_datelike_mixed_type)\n        2    0.000    0.000    0.000    0.000 internals.py:155(external_values)\n        1    0.000    0.000    0.000    0.000 numerictypes.py:1016(<listcomp>)\n        1    0.000    0.000    0.000    0.000 {method 'pop' of 'dict' objects}\n        1    0.000    0.000    0.000    0.000 {method 'disable' of '_lsprof.Profiler' objects}\n\n\n"
     ]
    },
    {
     "data": {
      "text/plain": [
       "<pstats.Stats at 0x1126bfda0>"
      ]
     },
     "execution_count": 18,
     "metadata": {},
     "output_type": "execute_result"
    }
   ],
   "source": [
    "p.print_stats()"
   ]
  },
  {
   "cell_type": "code",
   "execution_count": null,
   "metadata": {},
   "outputs": [],
   "source": []
  }
 ],
 "metadata": {
  "kernelspec": {
   "display_name": "Python 2",
   "language": "python",
   "name": "python2"
  },
  "language_info": {
   "codemirror_mode": {
    "name": "ipython",
    "version": 2
   },
   "file_extension": ".py",
   "mimetype": "text/x-python",
   "name": "python",
   "nbconvert_exporter": "python",
   "pygments_lexer": "ipython2",
   "version": "2.7.6"
  }
 },
 "nbformat": 4,
 "nbformat_minor": 0
}
